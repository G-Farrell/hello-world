{
 "cells": [
  {
   "cell_type": "code",
   "execution_count": 3,
   "id": "189fb6ed-a9a2-4179-99b8-a8b40a366544",
   "metadata": {},
   "outputs": [
    {
     "name": "stdin",
     "output_type": "stream",
     "text": [
      "What is your name? gary\n",
      "Input an integer greater than 0. 3\n"
     ]
    },
    {
     "name": "stdout",
     "output_type": "stream",
     "text": [
      "Gary\n",
      "Gary\n",
      "Gary\n"
     ]
    }
   ],
   "source": [
    "#Ask the user what their name is\n",
    "name = input(\"What is your name?\")\n",
    "#Ask the user for an integer\n",
    "times = int(input(\"Input an integer greater than 0.\"))\n",
    "#Print the user's name the number of times they requested.\n",
    "#Also capitalize the name so it is proper\n",
    "for i in range(times):\n",
    "    print(name.capitalize())"
   ]
  }
 ],
 "metadata": {
  "kernelspec": {
   "display_name": "Python 3 (ipykernel)",
   "language": "python",
   "name": "python3"
  },
  "language_info": {
   "codemirror_mode": {
    "name": "ipython",
    "version": 3
   },
   "file_extension": ".py",
   "mimetype": "text/x-python",
   "name": "python",
   "nbconvert_exporter": "python",
   "pygments_lexer": "ipython3",
   "version": "3.12.4"
  }
 },
 "nbformat": 4,
 "nbformat_minor": 5
}
