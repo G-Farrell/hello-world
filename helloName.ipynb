{
 "cells": [
  {
   "cell_type": "code",
   "execution_count": 2,
   "id": "189fb6ed-a9a2-4179-99b8-a8b40a366544",
   "metadata": {},
   "outputs": [
    {
     "name": "stdin",
     "output_type": "stream",
     "text": [
      "What is your name? Gary\n",
      "Input an int greater than 0. 4\n"
     ]
    },
    {
     "name": "stdout",
     "output_type": "stream",
     "text": [
      "Gary\n",
      "Gary\n",
      "Gary\n",
      "Gary\n"
     ]
    }
   ],
   "source": [
    "name = input(\"What is your name?\")\n",
    "times = int(input(\"Input an int greater than 0.\"))\n",
    "for i in range(times):\n",
    "    print(name)"
   ]
  }
 ],
 "metadata": {
  "kernelspec": {
   "display_name": "Python 3 (ipykernel)",
   "language": "python",
   "name": "python3"
  },
  "language_info": {
   "codemirror_mode": {
    "name": "ipython",
    "version": 3
   },
   "file_extension": ".py",
   "mimetype": "text/x-python",
   "name": "python",
   "nbconvert_exporter": "python",
   "pygments_lexer": "ipython3",
   "version": "3.12.4"
  }
 },
 "nbformat": 4,
 "nbformat_minor": 5
}
